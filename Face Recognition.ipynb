{
  "nbformat": 4,
  "nbformat_minor": 0,
  "metadata": {
    "colab": {
      "name": "fetch_lfw_people.ipynb",
      "provenance": []
    },
    "kernelspec": {
      "name": "python3",
      "display_name": "Python 3"
    },
    "language_info": {
      "name": "python"
    }
  },
  "cells": [
    {
      "cell_type": "markdown",
      "source": [
        "Importing all libraries"
      ],
      "metadata": {
        "id": "Z8ug8l-v9GYr"
      }
    },
    {
      "cell_type": "code",
      "execution_count": null,
      "metadata": {
        "id": "LTj1VT66PaVr"
      },
      "outputs": [],
      "source": [
        "from sklearn.datasets import fetch_lfw_people\n",
        "import matplotlib.pyplot as plt\n",
        "from PIL import Image\n",
        "import pandas as pd\n",
        "from sklearn.model_selection import train_test_split\n",
        "from sklearn.decomposition import PCA\n",
        "from sklearn.metrics import confusion_matrix, ConfusionMatrixDisplay\n",
        "from sklearn.neural_network import MLPClassifier\n",
        "from sklearn.metrics import accuracy_score"
      ]
    },
    {
      "cell_type": "markdown",
      "source": [
        "Loading the desired data"
      ],
      "metadata": {
        "id": "ns11F9mZ9cwc"
      }
    },
    {
      "cell_type": "code",
      "source": [
        "lfw_people = fetch_lfw_people(min_faces_per_person = 150, resize = 0.4)\n",
        "X = lfw_people.data\n",
        "y = lfw_people.target"
      ],
      "metadata": {
        "id": "tCsFC9ak8LSK"
      },
      "execution_count": null,
      "outputs": []
    },
    {
      "cell_type": "markdown",
      "source": [
        "Separating test and train data"
      ],
      "metadata": {
        "id": "IGs4lrdn9nZM"
      }
    },
    {
      "cell_type": "code",
      "source": [
        "X_train, X_test, y_train, y_test = train_test_split(X, y, random_state = 42,test_size = 0.25)\n",
        "#X_train.shape"
      ],
      "metadata": {
        "colab": {
          "base_uri": "https://localhost:8080/"
        },
        "id": "qjqlJK_vfpcJ",
        "outputId": "5fccb28f-c010-40af-a925-f4463dd25c71"
      },
      "execution_count": null,
      "outputs": [
        {
          "output_type": "execute_result",
          "data": {
            "text/plain": [
              "(574, 1850)"
            ]
          },
          "metadata": {},
          "execution_count": 315
        }
      ]
    },
    {
      "cell_type": "markdown",
      "source": [
        "Feature reduction using PCA"
      ],
      "metadata": {
        "id": "jLmixxHy9uLs"
      }
    },
    {
      "cell_type": "code",
      "source": [
        "pca = PCA(n_components=0.99, whiten=True).fit(X_train)\n",
        "X_train = pca.fit_transform(X_train)\n",
        "X_test = pca.transform(X_test)\n",
        "#X_train.shape"
      ],
      "metadata": {
        "id": "qZMry5ncQmlP",
        "colab": {
          "base_uri": "https://localhost:8080/"
        },
        "outputId": "ca52990b-c32a-49d0-8a08-64bcae3e2779"
      },
      "execution_count": null,
      "outputs": [
        {
          "output_type": "execute_result",
          "data": {
            "text/plain": [
              "(574, 263)"
            ]
          },
          "metadata": {},
          "execution_count": 318
        }
      ]
    },
    {
      "cell_type": "markdown",
      "source": [
        "Classifying using MLP"
      ],
      "metadata": {
        "id": "NAIqRGLc-Crc"
      }
    },
    {
      "cell_type": "code",
      "source": [
        "clf = MLPClassifier(hidden_layer_sizes=(170,70,36), max_iter=300,activation = 'relu',solver='adam',random_state=1)\n",
        "clf.fit(X_train, y_train)\n",
        "y_pred = clf.predict(X_test)\n",
        "print(accuracy_score(y_pred, y_test))"
      ],
      "metadata": {
        "id": "8vqkdQCuQmoF",
        "colab": {
          "base_uri": "https://localhost:8080/"
        },
        "outputId": "4bfa9230-04cd-410f-f0d7-b536dd317750"
      },
      "execution_count": null,
      "outputs": [
        {
          "output_type": "stream",
          "name": "stdout",
          "text": [
            "0.921875\n"
          ]
        }
      ]
    },
    {
      "cell_type": "markdown",
      "source": [
        "از جدول پایین برداشت می شود: از بین کل ۴۸ عکس از نفر صفر، ۴۶ نفر به اشتباه نفر اول تشخیص داده شده اند و ۲ نفر به درستی تشخیص داده شده است. همجنین از بین ۱۴۴ عکس از نفر اول، ۱۳۱ عکس به درستی نفر اول تشخیص داده شده و ۱۳ نفر به اشتباه نفر ۰ تشخیص داده شده اند"
      ],
      "metadata": {
        "id": "pRFDNET3-UiU"
      }
    },
    {
      "cell_type": "code",
      "source": [
        "cm = confusion_matrix(y_pred, y_test)\n",
        "ConfusionMatrixDisplay(confusion_matrix=cm).plot()"
      ],
      "metadata": {
        "colab": {
          "base_uri": "https://localhost:8080/",
          "height": 297
        },
        "id": "sxlkrKPkyYHW",
        "outputId": "4c4cd09d-a7b4-4b71-c6b8-412b01af73e7"
      },
      "execution_count": null,
      "outputs": [
        {
          "output_type": "execute_result",
          "data": {
            "text/plain": [
              "<sklearn.metrics._plot.confusion_matrix.ConfusionMatrixDisplay at 0x7fbb9ce9f6d0>"
            ]
          },
          "metadata": {},
          "execution_count": 325
        },
        {
          "output_type": "display_data",
          "data": {
            "text/plain": [
              "<Figure size 432x288 with 2 Axes>"
            ],
            "image/png": "[encoded data removed]"
          },
          "metadata": {
            "needs_background": "light"
          }
        }
      ]
    }
  ]
}